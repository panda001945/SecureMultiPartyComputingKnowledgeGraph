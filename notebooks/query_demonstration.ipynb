{
 "cells": [
  {
   "cell_type": "code",
   "execution_count": null,
   "metadata": {
    "vscode": {
     "languageId": "plaintext"
    }
   },
   "outputs": [],
   "source": [
    "from py2neo import Graph\n",
    "\n",
    "# Connect to Neo4j\n",
    "graph = Graph(\"bolt://localhost:7687\", auth=(\"neo4j\", \"password\"))\n",
    "\n",
    "# Example query: Retrieve protocols and applications\n",
    "query = \"\"\"\n",
    "MATCH (p:Protocol)-[r:IMPLEMENTS]->(a:Application)\n",
    "RETURN p.name AS Protocol, a.name AS Application\n",
    "\"\"\"\n",
    "result = graph.run(query).data()\n",
    "print(\"Query Result:\", result)\n",
    "\n",
    "# Example query: Find participants and applications\n",
    "query = \"\"\"\n",
    "MATCH (n:Participant)-[r:PARTICIPATES_IN]->(a:Application)\n",
    "RETURN n.name AS Participant, a.name AS Application\n",
    "\"\"\"\n",
    "result = graph.run(query).data()\n",
    "print(\"Participants and Applications:\", result)\n"
   ]
  }
 ],
 "metadata": {
  "language_info": {
   "name": "python"
  }
 },
 "nbformat": 4,
 "nbformat_minor": 2
}
