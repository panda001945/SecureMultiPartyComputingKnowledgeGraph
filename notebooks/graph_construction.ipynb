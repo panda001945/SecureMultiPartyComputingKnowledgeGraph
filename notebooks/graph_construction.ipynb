{
 "cells": [
  {
   "cell_type": "code",
   "execution_count": null,
   "metadata": {},
   "outputs": [],
   "source": [
    "from py2neo import Graph, Node, Relationship\n",
    "\n",
    "# Connect to Neo4j\n",
    "graph = Graph(\"bolt://localhost:7687\", auth=(\"neo4j\", \"password\"))\n",
    "\n",
    "# Create nodes\n",
    "protocol_node = Node(\"Protocol\", id=1, name=\"Yao's Garbled Circuits\")\n",
    "application_node = Node(\"Application\", id=2, name=\"Privacy-preserving computations\")\n",
    "\n",
    "graph.create(protocol_node)\n",
    "graph.create(application_node)\n",
    "\n",
    "# Create relationship\n",
    "relationship = Relationship(protocol_node, \"IMPLEMENTS\", application_node)\n",
    "graph.create(relationship)\n",
    "\n",
    "# Verify data\n",
    "query = \"MATCH (n) RETURN n\"\n",
    "nodes = graph.run(query).data()\n",
    "print(\"Nodes:\", nodes)\n"
   ]
  }
 ],
 "metadata": {
  "kernelspec": {
   "display_name": "venv",
   "language": "python",
   "name": "python3"
  },
  "language_info": {
   "name": "python",
   "version": "3.12.5"
  }
 },
 "nbformat": 4,
 "nbformat_minor": 2
}
